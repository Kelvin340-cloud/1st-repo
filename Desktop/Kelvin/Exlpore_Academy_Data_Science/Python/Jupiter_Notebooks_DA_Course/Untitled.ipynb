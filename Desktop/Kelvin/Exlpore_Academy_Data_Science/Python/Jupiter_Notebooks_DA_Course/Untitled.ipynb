{
 "cells": [
  {
   "cell_type": "code",
   "execution_count": 3,
   "id": "8ba3bc95-2537-43b0-86b3-8d36d14f634d",
   "metadata": {},
   "outputs": [],
   "source": [
    "### START FUNCTION\n",
    "def create_tractor(model, colour, horsepower, fuel_capacity):\n",
    "    # creating a dictionary\n",
    "    tractor = {'model' : model, 'colour' : colour, 'horsepower' : horsepower, 'fuel_capacity' : fuel_capacity}\n",
    "    return tractor\n",
    "    new_tractor = create_tractor('TX-1300', 'Green', 150, 60)\n",
    "    print(my_tractor)\n",
    "### END FUNCTION"
   ]
  },
  {
   "cell_type": "code",
   "execution_count": null,
   "id": "d407cd78-2f88-4f60-8a19-096c1e3e3cb4",
   "metadata": {},
   "outputs": [],
   "source": []
  },
  {
   "cell_type": "code",
   "execution_count": null,
   "id": "3b93f2d3-0e3f-452f-a9e0-94f37ee75d1d",
   "metadata": {},
   "outputs": [],
   "source": []
  }
 ],
 "metadata": {
  "kernelspec": {
   "display_name": "Python 3 (ipykernel)",
   "language": "python",
   "name": "python3"
  },
  "language_info": {
   "codemirror_mode": {
    "name": "ipython",
    "version": 3
   },
   "file_extension": ".py",
   "mimetype": "text/x-python",
   "name": "python",
   "nbconvert_exporter": "python",
   "pygments_lexer": "ipython3",
   "version": "3.11.7"
  }
 },
 "nbformat": 4,
 "nbformat_minor": 5
}
